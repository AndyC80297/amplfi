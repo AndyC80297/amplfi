{
 "cells": [
  {
   "cell_type": "code",
   "execution_count": 3,
   "id": "6fe4f935-d262-40af-8634-94bc66083739",
   "metadata": {},
   "outputs": [],
   "source": [
    "from nflows import transforms, distributions, flows\n",
    "import torch\n"
   ]
  },
  {
   "cell_type": "code",
   "execution_count": null,
   "id": "d3f33b89-f854-40bc-acb7-f1528e18b0da",
   "metadata": {},
   "outputs": [],
   "source": [
    "# Define an invertible transformation.\n",
    "transform = transforms.CompositeTransform([\n",
    "    transforms.MaskedAffineAutoregressiveTransform(features=2, hidden_features=4),\n",
    "    transforms.RandomPermutation(features=2)\n",
    "])\n",
    "\n",
    "# Define a base distribution.\n",
    "base_distribution = distributions.StandardNormal(shape=[2])\n",
    "\n",
    "\n",
    "# Combine into a flow.\n",
    "flow = flows.Flow(transform=transform, distribution=base_distribution)"
   ]
  },
  {
   "cell_type": "code",
   "execution_count": 6,
   "id": "89732aa7-5d41-4000-ae61-8fb04cd8b46c",
   "metadata": {},
   "outputs": [],
   "source": [
    "tensor = torch.Tensor([[1,2]])"
   ]
  },
  {
   "cell_type": "code",
   "execution_count": 34,
   "id": "cda1d66b-21fb-469f-bfc2-ce34cf47b614",
   "metadata": {},
   "outputs": [
    {
     "data": {
      "text/plain": [
       "<bound method Module.load_state_dict of Flow(\n",
       "  (_transform): CompositeTransform(\n",
       "    (_transforms): ModuleList(\n",
       "      (0): MaskedAffineAutoregressiveTransform(\n",
       "        (autoregressive_net): MADE(\n",
       "          (initial_layer): MaskedLinear(in_features=2, out_features=4, bias=True)\n",
       "          (blocks): ModuleList(\n",
       "            (0): MaskedResidualBlock(\n",
       "              (linear_layers): ModuleList(\n",
       "                (0): MaskedLinear(in_features=4, out_features=4, bias=True)\n",
       "                (1): MaskedLinear(in_features=4, out_features=4, bias=True)\n",
       "              )\n",
       "              (dropout): Dropout(p=0.0, inplace=False)\n",
       "            )\n",
       "            (1): MaskedResidualBlock(\n",
       "              (linear_layers): ModuleList(\n",
       "                (0): MaskedLinear(in_features=4, out_features=4, bias=True)\n",
       "                (1): MaskedLinear(in_features=4, out_features=4, bias=True)\n",
       "              )\n",
       "              (dropout): Dropout(p=0.0, inplace=False)\n",
       "            )\n",
       "          )\n",
       "          (final_layer): MaskedLinear(in_features=4, out_features=4, bias=True)\n",
       "        )\n",
       "      )\n",
       "      (1): RandomPermutation()\n",
       "    )\n",
       "  )\n",
       "  (_distribution): StandardNormal()\n",
       "  (_embedding_net): Identity()\n",
       ")>"
      ]
     },
     "execution_count": 34,
     "metadata": {},
     "output_type": "execute_result"
    }
   ],
   "source": [
    "flow.load_state_dict"
   ]
  },
  {
   "cell_type": "code",
   "execution_count": null,
   "id": "e8088bba-6e12-4189-aea3-2ee0ece4c928",
   "metadata": {},
   "outputs": [],
   "source": []
  }
 ],
 "metadata": {
  "kernelspec": {
   "display_name": "mlpe.trainer",
   "language": "python",
   "name": "mlpe.trainer"
  },
  "language_info": {
   "codemirror_mode": {
    "name": "ipython",
    "version": 3
   },
   "file_extension": ".py",
   "mimetype": "text/x-python",
   "name": "python",
   "nbconvert_exporter": "python",
   "pygments_lexer": "ipython3",
   "version": "3.9.13"
  }
 },
 "nbformat": 4,
 "nbformat_minor": 5
}
